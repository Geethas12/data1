{
 "cells": [
  {
   "cell_type": "code",
   "execution_count": 19,
   "id": "56f19358",
   "metadata": {},
   "outputs": [
    {
     "name": "stdout",
     "output_type": "stream",
     "text": [
      "C:/Users/User/image\\invert_ch2.jfif\n",
      "C:/Users/User/image\\invert_d.jpg\n",
      "C:/Users/User/image\\invert_face.jpg\n",
      "C:/Users/User/image\\invert_flower.jfif\n",
      "C:/Users/User/image\\invert_fruits.jpg\n",
      "C:/Users/User/image\\invert_imgd.jpg\n",
      "C:/Users/User/image\\invert_index2.jfif\n"
     ]
    }
   ],
   "source": [
    "# Code to apply operations on all the images  present in a folder one by one\n",
    "# operations such as rotating, cropping,\n",
    "\n",
    "from PIL import Image\n",
    "from PIL import ImageFilter\n",
    "import os\n",
    "\n",
    "def main():\n",
    "    inPath =\"C:/Users/User/Desktop/image\"\n",
    "    outPath =\"C:/Users/User/image\"\n",
    "    for imagePath in os.listdir(inPath):\n",
    "        inputPath = os.path.join(inPath, imagePath)\n",
    "        img = Image.open(inputPath)\n",
    "        fullOutPath = os.path.join(outPath, 'invert_'+imagePath)\n",
    "        img.rotate(90).save(fullOutPath)\n",
    "        print(fullOutPath)\n",
    "if __name__ == '__main__':\n",
    "    main()"
   ]
  },
  {
   "cell_type": "code",
   "execution_count": 20,
   "id": "a88ab6f3",
   "metadata": {},
   "outputs": [
    {
     "name": "stdout",
     "output_type": "stream",
     "text": [
      "Escape hit, closing...\n"
     ]
    }
   ],
   "source": [
    "import cv2\n",
    "cam = cv2.VideoCapture(0)\n",
    "cv2.namedWindow(\"test\")\n",
    "img_counter = 0\n",
    "while True:\n",
    "    ret, frame = cam.read()\n",
    "    if not ret:\n",
    "        print(\"failed to grab frame\")\n",
    "        break\n",
    "    cv2.imshow(\"test\", frame)\n",
    "    k = cv2.waitKey(1)\n",
    "    if k%256 == 27:\n",
    "        # ESC pressed\n",
    "        print(\"Escape hit, closing...\")\n",
    "        break\n",
    "    elif k%256 == 32:\n",
    "        # SPACE pressed\n",
    "        img_name = \"opencv_frame_{}.png\".format(img_counter)\n",
    "        cv2.imwrite(img_name, frame)\n",
    "        print(\"{} written!\".format(img_name))\n",
    "        img_counter += 1\n",
    "\n",
    "cam.release()\n",
    "cv2.destroyAllWindows()"
   ]
  },
  {
   "cell_type": "code",
   "execution_count": null,
   "id": "35415227",
   "metadata": {},
   "outputs": [],
   "source": []
  },
  {
   "cell_type": "code",
   "execution_count": null,
   "id": "ecbdf515",
   "metadata": {},
   "outputs": [],
   "source": []
  }
 ],
 "metadata": {
  "kernelspec": {
   "display_name": "Python 3 (ipykernel)",
   "language": "python",
   "name": "python3"
  },
  "language_info": {
   "codemirror_mode": {
    "name": "ipython",
    "version": 3
   },
   "file_extension": ".py",
   "mimetype": "text/x-python",
   "name": "python",
   "nbconvert_exporter": "python",
   "pygments_lexer": "ipython3",
   "version": "3.9.7"
  }
 },
 "nbformat": 4,
 "nbformat_minor": 5
}
