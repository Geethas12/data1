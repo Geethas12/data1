{
 "cells": [
  {
   "cell_type": "code",
   "execution_count": null,
   "id": "6250a0d4",
   "metadata": {},
   "outputs": [],
   "source": [
    "import cv2\n",
    "im=cv2.imread('ing.png')\n",
    "grey=cv2.cvtColor(im,cv2.COLOR_BGR2GRAY)\n",
    "LAB=cv2.cvtColor(im,cv2.COLOR_BGR2LAB)\n",
    "RGB=cv2.cvtColor(im,cv2.COLOR_BGR2RGB)\n",
    "HSV=cv2.cvtColor(im,cv2.COLOR_BGR2HSV)\n",
    "HLS=cv2.cvtColor(im,cv2.COLOR_BGR2HLS)\n",
    "YUV=cv2.cvtColor(im,cv2.COLOR_BGR2YUV)\n",
    "\n",
    "cv2.imshow(\"convert BGR to GRAY\",grey)\n",
    "cv2.imshow(\"convert BGR to LAB\",LAB)\n",
    "cv2.imshow(\"convert BGR to RGB\",RGB)\n",
    "cv2.imshow(\"convert BGR to HSV\",HSV)\n",
    "cv2.imshow(\"convert BGR to HLS\",HLS)\n",
    "cv2.imshow(\"convert BGR to YUSV\",YUV)\n",
    "           \n",
    "cv2.waitKey(0)\n",
    "cv2.destroyAllWindows()"
   ]
  },
  {
   "cell_type": "code",
   "execution_count": 5,
   "id": "c232c08d",
   "metadata": {},
   "outputs": [],
   "source": [
    "import cv2\n",
    "a=cv2.imread('in1.jpg')\n",
    "b=cv2.imread('in1.jpg')\n",
    "sum=a+b\n",
    "sub=a-b\n",
    "mul=a*b\n",
    "div=a/b\n",
    "cv2.imshow(\"sum\",sum)\n",
    "cv2.imshow(\"sub\",sub)\n",
    "cv2.imshow(\"mul\",mul)\n",
    "cv2.imshow(\"div\",div)\n",
    "cv2.waitKey(0)\n",
    "cv2.destroyAllWindows()"
   ]
  },
  {
   "cell_type": "code",
   "execution_count": null,
   "id": "30b2c8e0",
   "metadata": {},
   "outputs": [],
   "source": []
  }
 ],
 "metadata": {
  "kernelspec": {
   "display_name": "Python 3 (ipykernel)",
   "language": "python",
   "name": "python3"
  },
  "language_info": {
   "codemirror_mode": {
    "name": "ipython",
    "version": 3
   },
   "file_extension": ".py",
   "mimetype": "text/x-python",
   "name": "python",
   "nbconvert_exporter": "python",
   "pygments_lexer": "ipython3",
   "version": "3.9.7"
  }
 },
 "nbformat": 4,
 "nbformat_minor": 5
}
