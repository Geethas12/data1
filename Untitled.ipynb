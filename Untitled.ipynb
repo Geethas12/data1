{
 "cells": [
  {
   "cell_type": "code",
   "execution_count": 9,
   "id": "721e3d59",
   "metadata": {},
   "outputs": [],
   "source": [
    "import pandas as pd\n",
    "import numpy as np\n"
   ]
  },
  {
   "cell_type": "code",
   "execution_count": 10,
   "id": "13230248",
   "metadata": {},
   "outputs": [],
   "source": [
    "df=pd.read_csv('C:/Users/User/Downloads/employees.csv')\n"
   ]
  },
  {
   "cell_type": "code",
   "execution_count": 11,
   "id": "344ddbdb",
   "metadata": {},
   "outputs": [
    {
     "name": "stdout",
     "output_type": "stream",
     "text": [
      "  First Name  Gender  Salary Bonus % Senior Management             Team\n",
      "0    Douglas    Male   97308   6.945              TRUE        Marketing\n",
      "1     Thomas    Male   61933     NaN              TRUE              NaN\n",
      "2      Maria  Female  130590  11.858             FALSE          Finance\n",
      "3      Jerry    Male     NaN    9.34              TRUE          Finance\n",
      "4      Larry    Male  101004   1.389              TRUE  Client Services\n"
     ]
    }
   ],
   "source": [
    "\n",
    "print(df.head())"
   ]
  },
  {
   "cell_type": "code",
   "execution_count": 12,
   "id": "7c1e2d73",
   "metadata": {},
   "outputs": [
    {
     "name": "stdout",
     "output_type": "stream",
     "text": [
      "First Name           object\n",
      "Gender               object\n",
      "Salary               object\n",
      "Bonus %              object\n",
      "Senior Management    object\n",
      "Team                 object\n",
      "dtype: object\n",
      "       First Name  Gender Salary Bonus % Senior Management             Team\n",
      "count         931     852    998     997               932              957\n",
      "unique        201       3    993     968                 4               13\n",
      "top       Marilyn  Female  91462   8.999              TRUE  Client Services\n",
      "freq           11     428      2       3               467              105\n"
     ]
    }
   ],
   "source": [
    "print(df.dtypes)\n",
    "print(df.describe())"
   ]
  },
  {
   "cell_type": "code",
   "execution_count": 13,
   "id": "2618557b",
   "metadata": {},
   "outputs": [
    {
     "name": "stdout",
     "output_type": "stream",
     "text": [
      "Salary\n",
      "0     97308\n",
      "1     61933\n",
      "2    130590\n",
      "3       NaN\n",
      "4    101004\n",
      "5    115163\n",
      "6     65476\n",
      "7     45906\n",
      "8       NaN\n",
      "9    139852\n",
      "Name: Salary, dtype: object\n"
     ]
    }
   ],
   "source": [
    "print('Salary')\n",
    "print(df['Salary'].head(10))"
   ]
  },
  {
   "cell_type": "code",
   "execution_count": 14,
   "id": "a50e589f",
   "metadata": {},
   "outputs": [
    {
     "name": "stdout",
     "output_type": "stream",
     "text": [
      "0      Male\n",
      "1      Male\n",
      "2    Female\n",
      "3      Male\n",
      "4      Male\n",
      "5      n.a.\n",
      "6    Female\n",
      "7    Female\n",
      "8       NaN\n",
      "9    Female\n",
      "Name: Gender, dtype: object\n"
     ]
    }
   ],
   "source": [
    "print(df['Gender'].head(10))"
   ]
  },
  {
   "cell_type": "code",
   "execution_count": 15,
   "id": "59c4c1b9",
   "metadata": {},
   "outputs": [
    {
     "name": "stdout",
     "output_type": "stream",
     "text": [
      "0      Male\n",
      "1      Male\n",
      "2    Female\n",
      "3      Male\n",
      "4      Male\n",
      "5       NaN\n",
      "6    Female\n",
      "7    Female\n",
      "8       NaN\n",
      "9    Female\n",
      "Name: Gender, dtype: object\n"
     ]
    }
   ],
   "source": [
    "missing_value_formats = [\"n.a.\",\"?\",\"NA\",\"n/a\",\"na\",\"--\"]\n",
    "df=pd.read_csv(\"C:/Users/User/Downloads/employees.csv\",na_values = missing_value_formats)\n",
    "print(df['Gender'].head(10))"
   ]
  },
  {
   "cell_type": "code",
   "execution_count": 16,
   "id": "458d5ad5",
   "metadata": {},
   "outputs": [
    {
     "name": "stdout",
     "output_type": "stream",
     "text": [
      "0     97308.0\n",
      "1     61933.0\n",
      "2    130590.0\n",
      "3         NaN\n",
      "4    101004.0\n",
      "Name: Salary, dtype: float64\n"
     ]
    },
    {
     "name": "stderr",
     "output_type": "stream",
     "text": [
      "C:\\Users\\User\\AppData\\Local\\Temp/ipykernel_17980/1998890077.py:8: FutureWarning: The pandas.np module is deprecated and will be removed from pandas in a future version. Import numpy directly instead\n",
      "  return pd.np.nan\n"
     ]
    }
   ],
   "source": [
    "import pandas as pd\n",
    "missing_value_formats = [\"n.a\",\"?\",\"NA\",\"n/a\",\"na\",\"--\"]\n",
    "df=pd.read_csv(\"C:/Users/User/Downloads/employees.csv\",na_values = missing_value_formats)\n",
    "def make_int(i):\n",
    "    try:\n",
    "        return int(i)\n",
    "    except:\n",
    "        return pd.np.nan\n",
    "df['Salary']=df['Salary'].map(make_int)\n",
    "print(df['Salary'].head()) "
   ]
  },
  {
   "cell_type": "code",
   "execution_count": 17,
   "id": "f3c93f90",
   "metadata": {},
   "outputs": [
    {
     "name": "stdout",
     "output_type": "stream",
     "text": [
      "0     97308.0\n",
      "1     61933.0\n",
      "2    130590.0\n",
      "3         NaN\n",
      "4    101004.0\n",
      "Name: Salary, dtype: float64\n"
     ]
    }
   ],
   "source": [
    " print(df['Salary'].head())"
   ]
  },
  {
   "cell_type": "code",
   "execution_count": 18,
   "id": "4bd5edfd",
   "metadata": {},
   "outputs": [
    {
     "name": "stdout",
     "output_type": "stream",
     "text": [
      "0    False\n",
      "1    False\n",
      "2    False\n",
      "3    False\n",
      "4    False\n",
      "5    False\n",
      "6    False\n",
      "7    False\n",
      "8     True\n",
      "9    False\n",
      "Name: Gender, dtype: bool\n",
      "0     True\n",
      "1     True\n",
      "2     True\n",
      "3     True\n",
      "4     True\n",
      "5     True\n",
      "6     True\n",
      "7     True\n",
      "8    False\n",
      "9     True\n",
      "Name: Gender, dtype: bool\n"
     ]
    }
   ],
   "source": [
    "print(df['Gender'].isnull().head(10))\n",
    "print(df['Gender'].notnull().head(10))\n"
   ]
  },
  {
   "cell_type": "code",
   "execution_count": 19,
   "id": "3bce6e60",
   "metadata": {},
   "outputs": [
    {
     "name": "stdout",
     "output_type": "stream",
     "text": [
      "  First Name  Gender    Salary  Bonus % Senior Management             Team\n",
      "0    Douglas    Male   97308.0    6.945              TRUE        Marketing\n",
      "1     Thomas    Male   61933.0      NaN              TRUE              NaN\n",
      "2      Maria  Female  130590.0   11.858             FALSE          Finance\n",
      "3      Jerry    Male       NaN    9.340              TRUE          Finance\n",
      "4      Larry    Male  101004.0    1.389              TRUE  Client Services\n"
     ]
    }
   ],
   "source": [
    "null_filter=data1['Gender'].notnull()\n",
    "print(df[null_filter].head())"
   ]
  },
  {
   "cell_type": "code",
   "execution_count": 20,
   "id": "eeaf5bb6",
   "metadata": {},
   "outputs": [
    {
     "name": "stdout",
     "output_type": "stream",
     "text": [
      "True\n"
     ]
    }
   ],
   "source": [
    "print(df.isnull().values.any())\n"
   ]
  },
  {
   "cell_type": "code",
   "execution_count": 21,
   "id": "3521a763",
   "metadata": {},
   "outputs": [
    {
     "name": "stdout",
     "output_type": "stream",
     "text": [
      "First Name            70\n",
      "Gender               148\n",
      "Salary                 5\n",
      "Bonus %                4\n",
      "Senior Management     69\n",
      "Team                  47\n",
      "dtype: int64\n"
     ]
    }
   ],
   "source": [
    "print(df.isnull().sum())"
   ]
  },
  {
   "cell_type": "code",
   "execution_count": 22,
   "id": "1abdd5e0",
   "metadata": {},
   "outputs": [
    {
     "name": "stdout",
     "output_type": "stream",
     "text": [
      "False\n"
     ]
    }
   ],
   "source": [
    "new_df =df.dropna(axis=0)\n",
    "print(new_df.isnull().values.any())"
   ]
  },
  {
   "cell_type": "code",
   "execution_count": 23,
   "id": "833cbc60",
   "metadata": {},
   "outputs": [],
   "source": [
    "new_df =df.dropna(axis=0,how='any')\n",
    "new_df =df.dropna(axis=0,how='all')\n",
    "new_df =df.dropna(axis=1,how='any')\n",
    "new_df =df.dropna(axis=1,how='all')"
   ]
  },
  {
   "cell_type": "code",
   "execution_count": 24,
   "id": "c95b277c",
   "metadata": {},
   "outputs": [
    {
     "name": "stdout",
     "output_type": "stream",
     "text": [
      "all\n"
     ]
    }
   ],
   "source": [
    "print('all')"
   ]
  },
  {
   "cell_type": "code",
   "execution_count": 25,
   "id": "c204c31c",
   "metadata": {},
   "outputs": [
    {
     "name": "stdout",
     "output_type": "stream",
     "text": [
      "    First Name  Gender    Salary  Bonus % Senior Management  \\\n",
      "0      Douglas    Male   97308.0    6.945              TRUE   \n",
      "2        Maria  Female  130590.0   11.858             FALSE   \n",
      "4        Larry    Male  101004.0    1.389              TRUE   \n",
      "5       Dennis    n.a.  115163.0   10.125             FALSE   \n",
      "6         Ruby  Female   65476.0   10.012              TRUE   \n",
      "..         ...     ...       ...      ...               ...   \n",
      "994     George    Male   98874.0    4.479              TRUE   \n",
      "996    Phillip    Male   42392.0   19.675             FALSE   \n",
      "997    Russell    Male   96914.0    1.421             FALSE   \n",
      "998      Larry    Male   60500.0   11.985             FALSE   \n",
      "999     Albert    Male  129949.0   10.169              TRUE   \n",
      "\n",
      "                     Team  \n",
      "0               Marketing  \n",
      "2                 Finance  \n",
      "4         Client Services  \n",
      "5                   Legal  \n",
      "6                 Product  \n",
      "..                    ...  \n",
      "994             Marketing  \n",
      "996               Finance  \n",
      "997               Product  \n",
      "998  Business Development  \n",
      "999                 Sales  \n",
      "\n",
      "[746 rows x 6 columns]\n"
     ]
    }
   ],
   "source": [
    "new_df =df.dropna(axis=0,how='any')\n",
    "print(new_df)"
   ]
  },
  {
   "cell_type": "code",
   "execution_count": 26,
   "id": "16ac86a0",
   "metadata": {},
   "outputs": [
    {
     "name": "stdout",
     "output_type": "stream",
     "text": [
      "    First Name  Gender    Salary  Bonus % Senior Management  \\\n",
      "0      Douglas    Male   97308.0    6.945              TRUE   \n",
      "1       Thomas    Male   61933.0      NaN              TRUE   \n",
      "2        Maria  Female  130590.0   11.858             FALSE   \n",
      "3        Jerry    Male       NaN    9.340              TRUE   \n",
      "4        Larry    Male  101004.0    1.389              TRUE   \n",
      "..         ...     ...       ...      ...               ...   \n",
      "995      Henry     NaN  132483.0   16.655             FALSE   \n",
      "996    Phillip    Male   42392.0   19.675             FALSE   \n",
      "997    Russell    Male   96914.0    1.421             FALSE   \n",
      "998      Larry    Male   60500.0   11.985             FALSE   \n",
      "999     Albert    Male  129949.0   10.169              TRUE   \n",
      "\n",
      "                     Team  \n",
      "0               Marketing  \n",
      "1                     NaN  \n",
      "2                 Finance  \n",
      "3                 Finance  \n",
      "4         Client Services  \n",
      "..                    ...  \n",
      "995          Distribution  \n",
      "996               Finance  \n",
      "997               Product  \n",
      "998  Business Development  \n",
      "999                 Sales  \n",
      "\n",
      "[1000 rows x 6 columns]\n"
     ]
    }
   ],
   "source": [
    "new_df =df.dropna(axis=0,how='all')\n",
    "print(new_df)"
   ]
  },
  {
   "cell_type": "code",
   "execution_count": 27,
   "id": "1bdf958f",
   "metadata": {},
   "outputs": [
    {
     "name": "stdout",
     "output_type": "stream",
     "text": [
      "Empty DataFrame\n",
      "Columns: []\n",
      "Index: [0, 1, 2, 3, 4, 5, 6, 7, 8, 9, 10, 11, 12, 13, 14, 15, 16, 17, 18, 19, 20, 21, 22, 23, 24, 25, 26, 27, 28, 29, 30, 31, 32, 33, 34, 35, 36, 37, 38, 39, 40, 41, 42, 43, 44, 45, 46, 47, 48, 49, 50, 51, 52, 53, 54, 55, 56, 57, 58, 59, 60, 61, 62, 63, 64, 65, 66, 67, 68, 69, 70, 71, 72, 73, 74, 75, 76, 77, 78, 79, 80, 81, 82, 83, 84, 85, 86, 87, 88, 89, 90, 91, 92, 93, 94, 95, 96, 97, 98, 99, ...]\n",
      "\n",
      "[1000 rows x 0 columns]\n"
     ]
    }
   ],
   "source": [
    "new_df =df.dropna(axis=1,how='any')\n",
    "print(new_df)"
   ]
  },
  {
   "cell_type": "code",
   "execution_count": 28,
   "id": "5d4db839",
   "metadata": {},
   "outputs": [
    {
     "name": "stdout",
     "output_type": "stream",
     "text": [
      "    First Name  Gender    Salary  Bonus % Senior Management  \\\n",
      "0      Douglas    Male   97308.0    6.945              TRUE   \n",
      "1       Thomas    Male   61933.0      NaN              TRUE   \n",
      "2        Maria  Female  130590.0   11.858             FALSE   \n",
      "3        Jerry    Male       NaN    9.340              TRUE   \n",
      "4        Larry    Male  101004.0    1.389              TRUE   \n",
      "..         ...     ...       ...      ...               ...   \n",
      "995      Henry     NaN  132483.0   16.655             FALSE   \n",
      "996    Phillip    Male   42392.0   19.675             FALSE   \n",
      "997    Russell    Male   96914.0    1.421             FALSE   \n",
      "998      Larry    Male   60500.0   11.985             FALSE   \n",
      "999     Albert    Male  129949.0   10.169              TRUE   \n",
      "\n",
      "                     Team  \n",
      "0               Marketing  \n",
      "1                     NaN  \n",
      "2                 Finance  \n",
      "3                 Finance  \n",
      "4         Client Services  \n",
      "..                    ...  \n",
      "995          Distribution  \n",
      "996               Finance  \n",
      "997               Product  \n",
      "998  Business Development  \n",
      "999                 Sales  \n",
      "\n",
      "[1000 rows x 6 columns]\n"
     ]
    }
   ],
   "source": [
    "new_df =df.dropna(axis=1,how='all')\n",
    "print(new_df)"
   ]
  },
  {
   "cell_type": "code",
   "execution_count": 29,
   "id": "eae42d90",
   "metadata": {},
   "outputs": [
    {
     "data": {
      "text/plain": [
       "0       97308.0\n",
       "1       61933.0\n",
       "2      130590.0\n",
       "3           0.0\n",
       "4      101004.0\n",
       "         ...   \n",
       "995    132483.0\n",
       "996     42392.0\n",
       "997     96914.0\n",
       "998     60500.0\n",
       "999    129949.0\n",
       "Name: Salary, Length: 1000, dtype: float64"
      ]
     },
     "execution_count": 29,
     "metadata": {},
     "output_type": "execute_result"
    }
   ],
   "source": [
    "df['Salary'].fillna(0)"
   ]
  },
  {
   "cell_type": "code",
   "execution_count": 30,
   "id": "d0f8ae99",
   "metadata": {},
   "outputs": [
    {
     "data": {
      "text/plain": [
       "0           Male\n",
       "1           Male\n",
       "2         Female\n",
       "3           Male\n",
       "4           Male\n",
       "         ...    \n",
       "995    no Gender\n",
       "996         Male\n",
       "997         Male\n",
       "998         Male\n",
       "999         Male\n",
       "Name: Gender, Length: 1000, dtype: object"
      ]
     },
     "execution_count": 30,
     "metadata": {},
     "output_type": "execute_result"
    }
   ],
   "source": [
    "df['Gender'].fillna('no Gender')"
   ]
  },
  {
   "cell_type": "code",
   "execution_count": 31,
   "id": "3acdcae1",
   "metadata": {},
   "outputs": [
    {
     "data": {
      "text/plain": [
       "0       97308.0\n",
       "1       61933.0\n",
       "2      130590.0\n",
       "3      130590.0\n",
       "4      101004.0\n",
       "         ...   \n",
       "995    132483.0\n",
       "996     42392.0\n",
       "997     96914.0\n",
       "998     60500.0\n",
       "999    129949.0\n",
       "Name: Salary, Length: 1000, dtype: float64"
      ]
     },
     "execution_count": 31,
     "metadata": {},
     "output_type": "execute_result"
    }
   ],
   "source": [
    "df['Salary'].fillna(method='pad')"
   ]
  },
  {
   "cell_type": "code",
   "execution_count": 32,
   "id": "1bc330ca",
   "metadata": {},
   "outputs": [
    {
     "data": {
      "text/plain": [
       "0        Male\n",
       "1        Male\n",
       "2      Female\n",
       "3        Male\n",
       "4        Male\n",
       "        ...  \n",
       "995      Male\n",
       "996      Male\n",
       "997      Male\n",
       "998      Male\n",
       "999      Male\n",
       "Name: Gender, Length: 1000, dtype: object"
      ]
     },
     "execution_count": 32,
     "metadata": {},
     "output_type": "execute_result"
    }
   ],
   "source": [
    "df['Gender'].fillna(method='bfill')"
   ]
  },
  {
   "cell_type": "code",
   "execution_count": 33,
   "id": "01ffa6a0",
   "metadata": {},
   "outputs": [
    {
     "data": {
      "text/plain": [
       "0       97308.0\n",
       "1       61933.0\n",
       "2      130590.0\n",
       "3       90370.0\n",
       "4      101004.0\n",
       "         ...   \n",
       "995    132483.0\n",
       "996     42392.0\n",
       "997     96914.0\n",
       "998     60500.0\n",
       "999    129949.0\n",
       "Name: Salary, Length: 1000, dtype: float64"
      ]
     },
     "execution_count": 33,
     "metadata": {},
     "output_type": "execute_result"
    }
   ],
   "source": [
    "df['Salary'].fillna(df['Salary'].median())"
   ]
  },
  {
   "cell_type": "code",
   "execution_count": 35,
   "id": "14c53e44",
   "metadata": {},
   "outputs": [
    {
     "data": {
      "text/plain": [
       "0       97308.0\n",
       "1       61933.0\n",
       "2      130590.0\n",
       "3       90522.0\n",
       "4      101004.0\n",
       "         ...   \n",
       "995    132483.0\n",
       "996     42392.0\n",
       "997     96914.0\n",
       "998     60500.0\n",
       "999    129949.0\n",
       "Name: Salary, Length: 1000, dtype: float64"
      ]
     },
     "execution_count": 35,
     "metadata": {},
     "output_type": "execute_result"
    }
   ],
   "source": [
    "df['Salary'].fillna(int(df['Salary'].mean()))"
   ]
  },
  {
   "cell_type": "code",
   "execution_count": 36,
   "id": "9e0e5bf3",
   "metadata": {},
   "outputs": [
    {
     "data": {
      "text/plain": [
       "0       97308.0\n",
       "1       61933.0\n",
       "2      130590.0\n",
       "3           0.0\n",
       "4      101004.0\n",
       "         ...   \n",
       "995    132483.0\n",
       "996     42392.0\n",
       "997     96914.0\n",
       "998     60500.0\n",
       "999    129949.0\n",
       "Name: Salary, Length: 1000, dtype: float64"
      ]
     },
     "execution_count": 36,
     "metadata": {},
     "output_type": "execute_result"
    }
   ],
   "source": [
    "df['Salary'].replace(to_replace =np.nan,value=0)"
   ]
  },
  {
   "cell_type": "code",
   "execution_count": 37,
   "id": "a33f5911",
   "metadata": {},
   "outputs": [
    {
     "data": {
      "text/plain": [
       "0       97308.0\n",
       "1       61933.0\n",
       "2      130590.0\n",
       "3      115797.0\n",
       "4      101004.0\n",
       "         ...   \n",
       "995    132483.0\n",
       "996     42392.0\n",
       "997     96914.0\n",
       "998     60500.0\n",
       "999    129949.0\n",
       "Name: Salary, Length: 1000, dtype: float64"
      ]
     },
     "execution_count": 37,
     "metadata": {},
     "output_type": "execute_result"
    }
   ],
   "source": [
    "df['Salary'].interpolate(method='linear',direction='forward')"
   ]
  },
  {
   "cell_type": "code",
   "execution_count": null,
   "id": "b3fcc09c",
   "metadata": {},
   "outputs": [],
   "source": []
  }
 ],
 "metadata": {
  "kernelspec": {
   "display_name": "Python 3 (ipykernel)",
   "language": "python",
   "name": "python3"
  },
  "language_info": {
   "codemirror_mode": {
    "name": "ipython",
    "version": 3
   },
   "file_extension": ".py",
   "mimetype": "text/x-python",
   "name": "python",
   "nbconvert_exporter": "python",
   "pygments_lexer": "ipython3",
   "version": "3.9.7"
  }
 },
 "nbformat": 4,
 "nbformat_minor": 5
}
