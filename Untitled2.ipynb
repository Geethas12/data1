{
 "cells": [
  {
   "cell_type": "code",
   "execution_count": 1,
   "id": "25ac31b8",
   "metadata": {},
   "outputs": [],
   "source": [
    "import pandas as pd\n",
    "import numpy as np\n",
    "from scipy import stats"
   ]
  },
  {
   "cell_type": "code",
   "execution_count": 5,
   "id": "235053dc",
   "metadata": {},
   "outputs": [
    {
     "name": "stdout",
     "output_type": "stream",
     "text": [
      "accept null hypothesis\n"
     ]
    }
   ],
   "source": [
    "x = stats.norm.rvs(30,10,30)\n",
    "results = stats.ttest_1samp(x, 27)\n",
    "alpha = 0.05\n",
    "if(results[0] < 0) & (results[1]/2 < alpha):\n",
    "    print(\"reject null hypothesis, mean is greayer than 27\")\n",
    "else:\n",
    "    print(\"accept null hypothesis\")"
   ]
  },
  {
   "cell_type": "code",
   "execution_count": 7,
   "id": "31e6faf6",
   "metadata": {},
   "outputs": [],
   "source": [
    "y = stats.norm.rvs(30,10,30)\n",
    "res = stats.ttest_1samp(x, 505)"
   ]
  },
  {
   "cell_type": "code",
   "execution_count": 8,
   "id": "3b2b9a04",
   "metadata": {},
   "outputs": [
    {
     "data": {
      "text/plain": [
       "Ttest_1sampResult(statistic=-272.50349810502576, pvalue=5.541138589918868e-51)"
      ]
     },
     "execution_count": 8,
     "metadata": {},
     "output_type": "execute_result"
    }
   ],
   "source": [
    "res# cont use stats.ttest as alpha is changed"
   ]
  },
  {
   "cell_type": "code",
   "execution_count": 9,
   "id": "b712b8b2",
   "metadata": {},
   "outputs": [],
   "source": [
    "import math\n",
    "xbar =505\n",
    "SEM =(10/math.sqrt(30))"
   ]
  },
  {
   "cell_type": "code",
   "execution_count": 10,
   "id": "3e54b8d1",
   "metadata": {},
   "outputs": [
    {
     "data": {
      "text/plain": [
       "2.7386127875258306"
      ]
     },
     "execution_count": 10,
     "metadata": {},
     "output_type": "execute_result"
    }
   ],
   "source": [
    "mu=500\n",
    "z = (xbar - mu)/SEM\n",
    "z"
   ]
  },
  {
   "cell_type": "code",
   "execution_count": 15,
   "id": "2e971e28",
   "metadata": {},
   "outputs": [
    {
     "data": {
      "text/plain": [
       "0.0061698993205441255"
      ]
     },
     "execution_count": 15,
     "metadata": {},
     "output_type": "execute_result"
    }
   ],
   "source": [
    "pval =2*(1-stats.norm.cdf(z))\n",
    "pval"
   ]
  },
  {
   "cell_type": "code",
   "execution_count": 16,
   "id": "c36dc1f0",
   "metadata": {},
   "outputs": [],
   "source": [
    "# pvali<alpha, so reject null hypothesis"
   ]
  },
  {
   "cell_type": "code",
   "execution_count": 18,
   "id": "ca1da4f4",
   "metadata": {},
   "outputs": [
    {
     "name": "stdout",
     "output_type": "stream",
     "text": [
      "accept the hypothesis\n"
     ]
    }
   ],
   "source": [
    "alpha=0.003\n",
    "if (pval<alpha):\n",
    "    print(\"reject the hypothesis\")\n",
    "else:\n",
    "    print(\"accept the hypothesis\")"
   ]
  },
  {
   "cell_type": "code",
   "execution_count": null,
   "id": "4ffc4dde",
   "metadata": {},
   "outputs": [],
   "source": []
  }
 ],
 "metadata": {
  "kernelspec": {
   "display_name": "Python 3 (ipykernel)",
   "language": "python",
   "name": "python3"
  },
  "language_info": {
   "codemirror_mode": {
    "name": "ipython",
    "version": 3
   },
   "file_extension": ".py",
   "mimetype": "text/x-python",
   "name": "python",
   "nbconvert_exporter": "python",
   "pygments_lexer": "ipython3",
   "version": "3.9.7"
  }
 },
 "nbformat": 4,
 "nbformat_minor": 5
}
