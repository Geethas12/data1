{
 "cells": [
  {
   "cell_type": "code",
   "execution_count": 1,
   "id": "eb4f0549",
   "metadata": {},
   "outputs": [
    {
     "name": "stdout",
     "output_type": "stream",
     "text": [
      "[1 2 3]\n"
     ]
    }
   ],
   "source": [
    "import numpy as np\n",
    "#create a ID array\n",
    "arr1=np.array([1,2,3])\n",
    "print(arr1)"
   ]
  },
  {
   "cell_type": "code",
   "execution_count": 5,
   "id": "8accfe7d",
   "metadata": {},
   "outputs": [
    {
     "data": {
      "text/plain": [
       "3"
      ]
     },
     "execution_count": 5,
     "metadata": {},
     "output_type": "execute_result"
    }
   ],
   "source": [
    "# accessing elements from the array\n",
    "\n",
    "arr1[2]"
   ]
  },
  {
   "cell_type": "code",
   "execution_count": 6,
   "id": "451d240e",
   "metadata": {},
   "outputs": [
    {
     "data": {
      "text/plain": [
       "array([1, 2, 5])"
      ]
     },
     "execution_count": 6,
     "metadata": {},
     "output_type": "execute_result"
    }
   ],
   "source": [
    "# change an element from the array\n",
    "\n",
    "arr1[2]=5\n",
    "\n",
    "arr1"
   ]
  },
  {
   "cell_type": "code",
   "execution_count": 7,
   "id": "96b9f998",
   "metadata": {},
   "outputs": [
    {
     "name": "stdout",
     "output_type": "stream",
     "text": [
      "[[1 2 3]\n",
      " [4 5 6]]\n"
     ]
    }
   ],
   "source": [
    "# create a 2D array\n",
    "\n",
    "arr2=np.array([[1,2,3],[4,5,6]])\n",
    "print(arr2)"
   ]
  },
  {
   "cell_type": "code",
   "execution_count": 9,
   "id": "bc5cc4bf",
   "metadata": {},
   "outputs": [
    {
     "name": "stdout",
     "output_type": "stream",
     "text": [
      "the shape is 2 rows and 3 columns: (2, 3)\n"
     ]
    }
   ],
   "source": [
    "#check the shape of the array\n",
    "\n",
    "print(\"the shape is 2 rows and 3 columns:\",arr2.shape)"
   ]
  },
  {
   "cell_type": "code",
   "execution_count": 10,
   "id": "ed7f2ef7",
   "metadata": {},
   "outputs": [
    {
     "name": "stdout",
     "output_type": "stream",
     "text": [
      "3\n",
      "3\n",
      "3\n",
      "4\n"
     ]
    }
   ],
   "source": [
    "# Acessing elements from the array\n",
    "\n",
    "print(arr2[0][2])\n",
    "print(arr2[0,2])\n",
    "print(arr2[0,-1])\n",
    "print(arr2[-1,0])"
   ]
  },
  {
   "cell_type": "code",
   "execution_count": 12,
   "id": "83cdc5b0",
   "metadata": {},
   "outputs": [
    {
     "name": "stdout",
     "output_type": "stream",
     "text": [
      "['India' 'China' 'USA' 'Mexico']\n"
     ]
    }
   ],
   "source": [
    "# Array of type string\n",
    "\n",
    "arr3=np.array(['India','China','USA','Mexico'])\n",
    "print(arr3)"
   ]
  },
  {
   "cell_type": "code",
   "execution_count": 13,
   "id": "a56b974d",
   "metadata": {},
   "outputs": [
    {
     "data": {
      "text/plain": [
       "'China'"
      ]
     },
     "execution_count": 13,
     "metadata": {},
     "output_type": "execute_result"
    }
   ],
   "source": [
    "arr3[1]"
   ]
  },
  {
   "cell_type": "code",
   "execution_count": 18,
   "id": "9aa93fa1",
   "metadata": {},
   "outputs": [
    {
     "name": "stdout",
     "output_type": "stream",
     "text": [
      "[ 0  2  4  6  8 10 12 14 16 18]\n"
     ]
    }
   ],
   "source": [
    "# Array of evenly spaced values within a specified interval\n",
    "\n",
    "arr = np.arange(0, 20, 2)\n",
    "print (arr)"
   ]
  },
  {
   "cell_type": "code",
   "execution_count": 20,
   "id": "aecf226e",
   "metadata": {},
   "outputs": [
    {
     "name": "stdout",
     "output_type": "stream",
     "text": [
      "[ 0.          0.52631579  1.05263158  1.57894737  2.10526316  2.63157895\n",
      "  3.15789474  3.68421053  4.21052632  4.73684211  5.26315789  5.78947368\n",
      "  6.31578947  6.84210526  7.36842105  7.89473684  8.42105263  8.94736842\n",
      "  9.47368421 10.        ]\n"
     ]
    }
   ],
   "source": [
    "# Array of evenly specified interval\n",
    "\n",
    "arr=np.linspace(0, 10,20)\n",
    "print(arr)"
   ]
  },
  {
   "cell_type": "code",
   "execution_count": 22,
   "id": "e1c54637",
   "metadata": {},
   "outputs": [
    {
     "name": "stdout",
     "output_type": "stream",
     "text": [
      "[0.00154471 0.14349175 0.22314296 0.75771495 0.85704557 0.44297012\n",
      " 0.77876533 0.40416078 0.81109371 0.4133167 ]\n",
      "\n",
      "\n",
      "[[0.83716675 0.12204868 0.14525517 0.85640619]\n",
      " [0.97264029 0.81316799 0.52483667 0.9688257 ]\n",
      " [0.58338944 0.34326551 0.719116   0.59296063]]\n"
     ]
    }
   ],
   "source": [
    "# Array of random values between 0 and 1 in a gibven shape\n",
    "\n",
    "arr = np.random.rand(10)\n",
    "print(arr)\n",
    "print('\\n')\n",
    "arr = np.random.rand(3,4)\n",
    "print(arr)"
   ]
  },
  {
   "cell_type": "code",
   "execution_count": 23,
   "id": "6535f352",
   "metadata": {},
   "outputs": [
    {
     "name": "stdout",
     "output_type": "stream",
     "text": [
      "[[10 10 10 10 10 10]\n",
      " [10 10 10 10 10 10]\n",
      " [10 10 10 10 10 10]\n",
      " [10 10 10 10 10 10]]\n"
     ]
    }
   ],
   "source": [
    "# Array of constant values in a given shape\n",
    "\n",
    "print(np.full((4,6),10))"
   ]
  },
  {
   "cell_type": "code",
   "execution_count": 24,
   "id": "9012e7a4",
   "metadata": {},
   "outputs": [
    {
     "name": "stdout",
     "output_type": "stream",
     "text": [
      "[0 0 0 1 1 1 2 2 2]\n"
     ]
    }
   ],
   "source": [
    "# create an array by repetition\n",
    "# repeat rach element of an array by a specified number of times\n",
    "\n",
    "arr = [0, 1, 2]\n",
    "print(np.repeat(arr, 3))"
   ]
  },
  {
   "cell_type": "code",
   "execution_count": 25,
   "id": "c9b3cbf4",
   "metadata": {},
   "outputs": [
    {
     "name": "stdout",
     "output_type": "stream",
     "text": [
      "[0 1 2 0 1 2 0 1 2]\n"
     ]
    }
   ],
   "source": [
    "# repeat an array by a specified number of times\n",
    "\n",
    "arr =[0, 1, 2]\n",
    "print(np.tile(arr, 3))"
   ]
  },
  {
   "cell_type": "code",
   "execution_count": 26,
   "id": "355a2a96",
   "metadata": {},
   "outputs": [
    {
     "name": "stdout",
     "output_type": "stream",
     "text": [
      "[[1. 0. 0.]\n",
      " [0. 1. 0.]\n",
      " [0. 0. 1.]]\n"
     ]
    }
   ],
   "source": [
    "# create an idenity martrix\n",
    "\n",
    "identity_matrix = np.eye(3)\n",
    "print(identity_matrix)"
   ]
  },
  {
   "cell_type": "code",
   "execution_count": 27,
   "id": "8eb58769",
   "metadata": {},
   "outputs": [
    {
     "name": "stdout",
     "output_type": "stream",
     "text": [
      "[[1. 0. 0.]\n",
      " [0. 1. 0.]\n",
      " [0. 0. 1.]]\n"
     ]
    }
   ],
   "source": [
    "identity_matrix = np.identity(3)\n",
    "print(identity_matrix)"
   ]
  },
  {
   "cell_type": "code",
   "execution_count": 28,
   "id": "6a091d1c",
   "metadata": {},
   "outputs": [
    {
     "name": "stdout",
     "output_type": "stream",
     "text": [
      "[[0.6740853  0.91553192 0.72529724 0.64637058 0.67095419]\n",
      " [0.15406722 0.76866399 0.75241427 0.150351   0.17665435]\n",
      " [0.09277931 0.71055001 0.46582599 0.58486465 0.98150842]\n",
      " [0.02774761 0.5989975  0.08970386 0.34324162 0.31421895]\n",
      " [0.05859646 0.91735527 0.03774876 0.72413252 0.96699595]]\n"
     ]
    }
   ],
   "source": [
    "arr = np.random.rand(5,5)\n",
    "print(arr)"
   ]
  },
  {
   "cell_type": "code",
   "execution_count": 29,
   "id": "f64e4e02",
   "metadata": {},
   "outputs": [
    {
     "name": "stdout",
     "output_type": "stream",
     "text": [
      "[1.0072759  3.91109868 2.07099011 2.44896038 3.11033187]\n"
     ]
    }
   ],
   "source": [
    "# sum along the column\n",
    "print(np.sum(arr, axis=0))"
   ]
  },
  {
   "cell_type": "code",
   "execution_count": 31,
   "id": "1201bb19",
   "metadata": {},
   "outputs": [
    {
     "name": "stdout",
     "output_type": "stream",
     "text": [
      "[3.63223923 2.00215083 2.83552837 1.37390955 2.70482897]\n"
     ]
    }
   ],
   "source": [
    "#sum along the row\n",
    "print(np.sum(arr, axis=1))\n"
   ]
  },
  {
   "cell_type": "code",
   "execution_count": 33,
   "id": "41541969",
   "metadata": {},
   "outputs": [
    {
     "name": "stdout",
     "output_type": "stream",
     "text": [
      "0.5019462776570248\n",
      "0.5989974989658557\n",
      "0.3192684764178053\n",
      "0.1019323600341467\n"
     ]
    }
   ],
   "source": [
    "print(np.mean(arr))\n",
    "print(np.median(arr))\n",
    "print(np.std(arr))\n",
    "print(np.var(arr))"
   ]
  },
  {
   "cell_type": "code",
   "execution_count": 35,
   "id": "f933dcd0",
   "metadata": {},
   "outputs": [
    {
     "name": "stdout",
     "output_type": "stream",
     "text": [
      "[[0.82115394 0.03283659 0.37868388 0.25876321 0.19680306]\n",
      " [0.46490339 0.23728611 0.8007836  0.7843999  0.76302639]\n",
      " [0.38824352 0.8155193  0.79468872 0.55914554 0.75744942]\n",
      " [0.51567711 0.91538978 0.74998542 0.32122758 0.3852088 ]\n",
      " [0.54128684 0.15035776 0.70729597 0.5587477  0.86707682]]\n"
     ]
    }
   ],
   "source": [
    "#sort an array\n",
    "arr = np.random.rand(5,5)\n",
    "print(arr)"
   ]
  },
  {
   "cell_type": "code",
   "execution_count": 36,
   "id": "798d0612",
   "metadata": {},
   "outputs": [
    {
     "name": "stdout",
     "output_type": "stream",
     "text": [
      "[[0.03283659 0.19680306 0.25876321 0.37868388 0.82115394]\n",
      " [0.23728611 0.46490339 0.76302639 0.7843999  0.8007836 ]\n",
      " [0.38824352 0.55914554 0.75744942 0.79468872 0.8155193 ]\n",
      " [0.32122758 0.3852088  0.51567711 0.74998542 0.91538978]\n",
      " [0.15035776 0.54128684 0.5587477  0.70729597 0.86707682]]\n"
     ]
    }
   ],
   "source": [
    "#sort along the row\n",
    "\n",
    "print(np.sort(arr, axis=1))"
   ]
  },
  {
   "cell_type": "code",
   "execution_count": 37,
   "id": "6e0d0ea2",
   "metadata": {},
   "outputs": [],
   "source": [
    "# Append elements to an array\n",
    "\n",
    "arr= np.array([4,5,6,7])"
   ]
  },
  {
   "cell_type": "code",
   "execution_count": 38,
   "id": "e633a829",
   "metadata": {},
   "outputs": [
    {
     "data": {
      "text/plain": [
       "array([4, 5, 6, 7, 8])"
      ]
     },
     "execution_count": 38,
     "metadata": {},
     "output_type": "execute_result"
    }
   ],
   "source": [
    "arr1 = np.append(arr, 8)\n",
    "arr1"
   ]
  },
  {
   "cell_type": "code",
   "execution_count": 39,
   "id": "6a304e60",
   "metadata": {},
   "outputs": [
    {
     "name": "stdout",
     "output_type": "stream",
     "text": [
      "[ 4  5  6  7  9 10 11]\n"
     ]
    }
   ],
   "source": [
    "arr2=np.append(arr, [9,10,11])\n",
    "print(arr2)"
   ]
  },
  {
   "cell_type": "code",
   "execution_count": 40,
   "id": "1f55dfef",
   "metadata": {},
   "outputs": [
    {
     "name": "stdout",
     "output_type": "stream",
     "text": [
      "[ 4  5  6  7  9 10 11]\n",
      "\n",
      "\n",
      "[ 4  6  7 10 11]\n"
     ]
    }
   ],
   "source": [
    "# delete multiple elements\n",
    "arr2 = np.array([4,5,6,7,9,10,11])\n",
    "print(arr2)\n",
    "print('\\n')\n",
    "arr5 = np.delete(arr2, [1,4])\n",
    "print(arr5)"
   ]
  },
  {
   "cell_type": "code",
   "execution_count": 41,
   "id": "d542ccb6",
   "metadata": {},
   "outputs": [],
   "source": [
    "# combine and split an array\n",
    "\n",
    "arr1=np.array([[1,2,3,4],[1,2,3,4]])\n",
    "arr2=np.array([[5,6,7,8],[5,6,7,8]])"
   ]
  },
  {
   "cell_type": "code",
   "execution_count": 43,
   "id": "b1949ffb",
   "metadata": {},
   "outputs": [
    {
     "name": "stdout",
     "output_type": "stream",
     "text": [
      "[[1 2 3 4]\n",
      " [1 2 3 4]\n",
      " [5 6 7 8]\n",
      " [5 6 7 8]]\n"
     ]
    }
   ],
   "source": [
    "# combine the array items by column\n",
    "\n",
    "cat = np.concatenate((arr1,arr2), axis=0)\n",
    "print(cat)"
   ]
  },
  {
   "cell_type": "code",
   "execution_count": 44,
   "id": "73ca5602",
   "metadata": {},
   "outputs": [
    {
     "name": "stdout",
     "output_type": "stream",
     "text": [
      "[[1 2 3 4 5 6 7 8]\n",
      " [1 2 3 4 5 6 7 8]]\n"
     ]
    }
   ],
   "source": [
    "# combine array items by row\n",
    "\n",
    "cat = np. concatenate((arr1, arr2), axis=1)\n",
    "print(cat)"
   ]
  },
  {
   "cell_type": "code",
   "execution_count": null,
   "id": "6576033e",
   "metadata": {},
   "outputs": [],
   "source": []
  }
 ],
 "metadata": {
  "kernelspec": {
   "display_name": "Python 3 (ipykernel)",
   "language": "python",
   "name": "python3"
  },
  "language_info": {
   "codemirror_mode": {
    "name": "ipython",
    "version": 3
   },
   "file_extension": ".py",
   "mimetype": "text/x-python",
   "name": "python",
   "nbconvert_exporter": "python",
   "pygments_lexer": "ipython3",
   "version": "3.9.7"
  }
 },
 "nbformat": 4,
 "nbformat_minor": 5
}
