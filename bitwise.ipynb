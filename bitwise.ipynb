{
 "cells": [
  {
   "cell_type": "code",
   "execution_count": 2,
   "id": "975c1ff6",
   "metadata": {},
   "outputs": [],
   "source": [
    "#program to perfrom bitwise\n",
    "\n",
    "#import opencv\n",
    "import cv2 \n",
    "\n",
    "#read the images\n",
    "img1 = cv2.imread('a.png')\n",
    "img2 = cv2.imread('b.png')\n",
    "\n",
    "#compute bitwise and on both image\n",
    "and_img=cv2.bitwise_and(img1,img2)\n",
    "or_img=cv2.bitwise_or(img1,img2)\n",
    "not_img=cv2.bitwise_not(img1,img2)\n",
    "\n",
    "#display the computed and image\n",
    "cv2.imshow('Bitwise AND image',and_img)\n",
    "cv2.imshow('Bitwise OR image',or_img)\n",
    "cv2.imshow('Bitwise NOT image',not_img)\n",
    "cv2.waitKey(0)\n",
    "cv2.destroyAllWindows()"
   ]
  },
  {
   "cell_type": "code",
   "execution_count": null,
   "id": "a4fb01eb",
   "metadata": {},
   "outputs": [],
   "source": []
  },
  {
   "cell_type": "code",
   "execution_count": null,
   "id": "7962f59c",
   "metadata": {},
   "outputs": [],
   "source": []
  },
  {
   "cell_type": "code",
   "execution_count": null,
   "id": "d6904071",
   "metadata": {},
   "outputs": [],
   "source": []
  },
  {
   "cell_type": "code",
   "execution_count": null,
   "id": "b67593bd",
   "metadata": {},
   "outputs": [],
   "source": []
  },
  {
   "cell_type": "code",
   "execution_count": null,
   "id": "f8492825",
   "metadata": {},
   "outputs": [],
   "source": []
  }
 ],
 "metadata": {
  "kernelspec": {
   "display_name": "Python 3 (ipykernel)",
   "language": "python",
   "name": "python3"
  },
  "language_info": {
   "codemirror_mode": {
    "name": "ipython",
    "version": 3
   },
   "file_extension": ".py",
   "mimetype": "text/x-python",
   "name": "python",
   "nbconvert_exporter": "python",
   "pygments_lexer": "ipython3",
   "version": "3.9.7"
  }
 },
 "nbformat": 4,
 "nbformat_minor": 5
}
